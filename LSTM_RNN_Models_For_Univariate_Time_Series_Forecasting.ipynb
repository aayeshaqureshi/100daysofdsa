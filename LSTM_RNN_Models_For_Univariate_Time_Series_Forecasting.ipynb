{
  "nbformat": 4,
  "nbformat_minor": 0,
  "metadata": {
    "colab": {
      "provenance": [],
      "authorship_tag": "ABX9TyMbEIVbTtekxUmq/EmhN1UT",
      "include_colab_link": true
    },
    "kernelspec": {
      "name": "python3",
      "display_name": "Python 3"
    },
    "language_info": {
      "name": "python"
    }
  },
  "cells": [
    {
      "cell_type": "markdown",
      "metadata": {
        "id": "view-in-github",
        "colab_type": "text"
      },
      "source": [
        "<a href=\"https://colab.research.google.com/github/aayeshaqureshi/100daysofdsa/blob/main/LSTM_RNN_Models_For_Univariate_Time_Series_Forecasting.ipynb\" target=\"_parent\"><img src=\"https://colab.research.google.com/assets/colab-badge.svg\" alt=\"Open In Colab\"/></a>"
      ]
    },
    {
      "cell_type": "code",
      "execution_count": null,
      "metadata": {
        "id": "OBuwIWeC2Ymc"
      },
      "outputs": [],
      "source": [
        "#univariate time series forecasting\n",
        "# considering prev 3 day price predict the next price\n",
        "\n"
      ]
    },
    {
      "cell_type": "markdown",
      "source": [
        "# the first step is data preprocessing\n",
        "### days-   1    2    3    4    5    6    7    8    9    10\n",
        "### prices- [110,125, 133, 146, 158, 172, 187, 196, 210]\n",
        "### predict the price for the 10th day considering prev 3 days\n",
        "we are taking 3 time stamps and predicting the prices for the 4th day in each iteration\n",
        "3 values are x independent features and the 4th day value y is the dependent feature\n"
      ],
      "metadata": {
        "id": "74njswlU4vZw"
      }
    },
    {
      "cell_type": "markdown",
      "source": [
        "###We are going to apply a simple LSTM RNN model\n",
        "###prediction for the future 10 days \n",
        "###plotting- visualization\n",
        "\n",
        "---\n",
        "\n",
        "\n"
      ],
      "metadata": {
        "id": "7lF3PLaZ_5cb"
      }
    },
    {
      "cell_type": "code",
      "source": [
        "# starting by importing all the required libraries\n",
        "import numpy as np\n",
        "from tensorflow.keras.models import Sequential\n",
        "from tensorflow.keras.layers import LSTM\n",
        "from tensorflow.keras.layers import Dense\n",
        "from tensorflow.keras.layers import Flatten\n",
        "\n",
        "\n"
      ],
      "metadata": {
        "id": "fn19jZbA_4hh"
      },
      "execution_count": 20,
      "outputs": []
    },
    {
      "cell_type": "code",
      "source": [
        "#prepare_data function\n",
        "def prepare_data(timeseries_data, n_features):\n",
        "  #intialize x and y which is in the form of list\n",
        "  X,y =[],[]\n",
        "  for i in range(len(timeseries_data)):\n",
        "    #find the end of this pattern\n",
        "    end_ix= i+ n_features\n",
        "    # check if we are beyond sequence \n",
        "    if end_ix> len(timeseries_data)-1:\n",
        "      break\n",
        "    #otherwise store it in the sequnce x values\n",
        "    #and the next value stores in the y axis\n",
        "    seq_x, seq_y=timeseries_data[i:end_ix],timeseries_data[end_ix]\n",
        "    X.append(seq_x)\n",
        "    y.append(seq_y)\n",
        "  return np.array(X), np.array(y)\n",
        "  \n"
      ],
      "metadata": {
        "id": "UONzGlgqBYNv"
      },
      "execution_count": 21,
      "outputs": []
    },
    {
      "cell_type": "code",
      "source": [
        "#define input sequence \n",
        "timeseries_data= [110,125, 133, 146, 158, 172, 187, 196, 210]\n",
        "#choose number of timestamps\n",
        "n_steps=3\n",
        "#split into samples\n",
        "#we make a function call to preapre our independent and dependent features\n",
        "X,y = prepare_data(timeseries_data, n_steps)"
      ],
      "metadata": {
        "id": "i94mRDYqBYMK"
      },
      "execution_count": 22,
      "outputs": []
    },
    {
      "cell_type": "code",
      "source": [
        "print(X), print(y)\n"
      ],
      "metadata": {
        "colab": {
          "base_uri": "https://localhost:8080/"
        },
        "id": "E00YTiA0BYI0",
        "outputId": "143580bb-9ee0-4ac2-c00c-551a71d4dbbe"
      },
      "execution_count": 23,
      "outputs": [
        {
          "output_type": "stream",
          "name": "stdout",
          "text": [
            "[[110 125 133]\n",
            " [125 133 146]\n",
            " [133 146 158]\n",
            " [146 158 172]\n",
            " [158 172 187]\n",
            " [172 187 196]]\n",
            "[146 158 172 187 196 210]\n"
          ]
        },
        {
          "output_type": "execute_result",
          "data": {
            "text/plain": [
              "(None, None)"
            ]
          },
          "metadata": {},
          "execution_count": 23
        }
      ]
    },
    {
      "cell_type": "code",
      "source": [
        "X.shape\n",
        "# we have 3 features and 6 records"
      ],
      "metadata": {
        "colab": {
          "base_uri": "https://localhost:8080/"
        },
        "id": "xA_DDu0IIkxE",
        "outputId": "72378034-f1b5-4a38-c930-f1d885404197"
      },
      "execution_count": 24,
      "outputs": [
        {
          "output_type": "execute_result",
          "data": {
            "text/plain": [
              "(6, 3)"
            ]
          },
          "metadata": {},
          "execution_count": 24
        }
      ]
    },
    {
      "cell_type": "markdown",
      "source": [
        "# Buidling an LSTM model"
      ],
      "metadata": {
        "id": "Kn_6gj10IrPk"
      }
    },
    {
      "cell_type": "markdown",
      "source": [
        "whenever we implement LSTM we have to reshape our data into 3 dimensions. \n",
        "1. number of records\n",
        "2. number of timestamps here 3\n",
        "3. n_features\n"
      ],
      "metadata": {
        "id": "Xu3GnPMIIvfG"
      }
    },
    {
      "cell_type": "code",
      "source": [
        "#reshape from [sample, timestamps] to [sample, timestamps, features]\n",
        "n_features=1\n",
        "X= X.reshape((X.shape[0],X.shape[1], n_features))"
      ],
      "metadata": {
        "id": "7gWGkFvsIkvb"
      },
      "execution_count": 25,
      "outputs": []
    },
    {
      "cell_type": "code",
      "source": [
        "#define model\n",
        "#intially we create  a sequential layer\n",
        "model= Sequential()\n",
        "#then add the lstm layers\n",
        "#in input shape we give n_steps and n_features\n",
        "#n_steps is the number of timestamps\n",
        "\n",
        "#we take 50 hidden neurons in every layer\n",
        "model.add(LSTM(50, activation='relu', return_sequences=True, input_shape= (n_steps, n_features)))\n",
        "model.add(LSTM(50, activation='relu'))\n",
        "#output node\n",
        "model.add(Dense(1))\n",
        "model.compile(optimizer='adam', loss='mse')\n",
        "#fit the model\n",
        "model.fit(X,y, epochs=300, verbose=0)\n",
        "#verbose will display you how the epochs are taking place\n",
        "\n",
        "\n",
        "\n"
      ],
      "metadata": {
        "colab": {
          "base_uri": "https://localhost:8080/"
        },
        "id": "1EFfT9dEIksf",
        "outputId": "83be2c7a-9f07-425f-a2b7-784c88b4cb9a"
      },
      "execution_count": 26,
      "outputs": [
        {
          "output_type": "execute_result",
          "data": {
            "text/plain": [
              "<keras.callbacks.History at 0x7f397211bac0>"
            ]
          },
          "metadata": {},
          "execution_count": 26
        }
      ]
    },
    {
      "cell_type": "markdown",
      "source": [
        "#predict for the next 10 days of data\n"
      ],
      "metadata": {
        "id": "9JiugiTkNUqs"
      }
    },
    {
      "cell_type": "code",
      "source": [
        "#append the outout into the input list and use the last  values to calculte the next days prediction\n",
        "x_input = array([187, 196, 210])\n",
        "temp_input=list(x_input)\n",
        "lst_output=[]\n",
        "i=0\n",
        "while(i<10):\n",
        "    \n",
        "    if(len(temp_input)>3):\n",
        "        x_input=array(temp_input[1:])\n",
        "        print(\"{} day input {}\".format(i,x_input))\n",
        "        #print(x_input)\n",
        "        x_input = x_input.reshape((1, n_steps, n_features))\n",
        "        #print(x_input)\n",
        "        yhat = model.predict(x_input, verbose=0)\n",
        "        print(\"{} day output {}\".format(i,yhat))\n",
        "        temp_input.append(yhat[0][0])\n",
        "        temp_input=temp_input[1:]\n",
        "        #print(temp_input)\n",
        "        lst_output.append(yhat[0][0])\n",
        "        i=i+1\n",
        "    else:\n",
        "        x_input = x_input.reshape((1, n_steps, n_features))\n",
        "        yhat = model.predict(x_input, verbose=0)\n",
        "        print(yhat[0])\n",
        "        temp_input.append(yhat[0][0])\n",
        "        lst_output.append(yhat[0][0])\n",
        "        i=i+1\n",
        "    \n",
        "\n",
        "print(lst_output)\n",
        "\n"
      ],
      "metadata": {
        "colab": {
          "base_uri": "https://localhost:8080/",
          "height": 235
        },
        "id": "004IsA2HIkq2",
        "outputId": "45cb67af-b460-495f-88cf-a51288c846fa"
      },
      "execution_count": 28,
      "outputs": [
        {
          "output_type": "error",
          "ename": "TypeError",
          "evalue": "ignored",
          "traceback": [
            "\u001b[0;31m---------------------------------------------------------------------------\u001b[0m",
            "\u001b[0;31mTypeError\u001b[0m                                 Traceback (most recent call last)",
            "\u001b[0;32m<ipython-input-28-2bdbefc160ac>\u001b[0m in \u001b[0;36m<module>\u001b[0;34m\u001b[0m\n\u001b[1;32m      1\u001b[0m \u001b[0;31m#append the outout into the input list and use the last  values to calculte the next days prediction\u001b[0m\u001b[0;34m\u001b[0m\u001b[0;34m\u001b[0m\u001b[0;34m\u001b[0m\u001b[0m\n\u001b[0;32m----> 2\u001b[0;31m \u001b[0mx_input\u001b[0m \u001b[0;34m=\u001b[0m \u001b[0marray\u001b[0m\u001b[0;34m(\u001b[0m\u001b[0;34m[\u001b[0m\u001b[0;36m187\u001b[0m\u001b[0;34m,\u001b[0m \u001b[0;36m196\u001b[0m\u001b[0;34m,\u001b[0m \u001b[0;36m210\u001b[0m\u001b[0;34m]\u001b[0m\u001b[0;34m)\u001b[0m\u001b[0;34m\u001b[0m\u001b[0;34m\u001b[0m\u001b[0m\n\u001b[0m\u001b[1;32m      3\u001b[0m \u001b[0mtemp_input\u001b[0m\u001b[0;34m=\u001b[0m\u001b[0mlist\u001b[0m\u001b[0;34m(\u001b[0m\u001b[0mx_input\u001b[0m\u001b[0;34m)\u001b[0m\u001b[0;34m\u001b[0m\u001b[0;34m\u001b[0m\u001b[0m\n\u001b[1;32m      4\u001b[0m \u001b[0mlst_output\u001b[0m\u001b[0;34m=\u001b[0m\u001b[0;34m[\u001b[0m\u001b[0;34m]\u001b[0m\u001b[0;34m\u001b[0m\u001b[0;34m\u001b[0m\u001b[0m\n\u001b[1;32m      5\u001b[0m \u001b[0mi\u001b[0m\u001b[0;34m=\u001b[0m\u001b[0;36m0\u001b[0m\u001b[0;34m\u001b[0m\u001b[0;34m\u001b[0m\u001b[0m\n",
            "\u001b[0;31mTypeError\u001b[0m: array() argument 1 must be a unicode character, not list"
          ]
        }
      ]
    },
    {
      "cell_type": "code",
      "source": [],
      "metadata": {
        "id": "ggAOyKlBNYop"
      },
      "execution_count": null,
      "outputs": []
    },
    {
      "cell_type": "code",
      "source": [],
      "metadata": {
        "id": "v3HeNqnyNYcR"
      },
      "execution_count": null,
      "outputs": []
    },
    {
      "cell_type": "code",
      "source": [],
      "metadata": {
        "id": "01mev0UeNYai"
      },
      "execution_count": null,
      "outputs": []
    },
    {
      "cell_type": "code",
      "source": [],
      "metadata": {
        "id": "_3kf5AHANYXL"
      },
      "execution_count": null,
      "outputs": []
    },
    {
      "cell_type": "code",
      "source": [],
      "metadata": {
        "id": "WIvBaR4ONYVs"
      },
      "execution_count": null,
      "outputs": []
    },
    {
      "cell_type": "code",
      "source": [],
      "metadata": {
        "id": "cAggwXzPBYHF"
      },
      "execution_count": null,
      "outputs": []
    },
    {
      "cell_type": "code",
      "source": [],
      "metadata": {
        "id": "yZ4F2DI64u9Z"
      },
      "execution_count": null,
      "outputs": []
    }
  ]
}